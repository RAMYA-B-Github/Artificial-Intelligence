{
  "nbformat": 4,
  "nbformat_minor": 0,
  "metadata": {
    "colab": {
      "provenance": [],
      "authorship_tag": "ABX9TyNUWES813Nv7vnr2evgSO6y",
      "include_colab_link": true
    },
    "kernelspec": {
      "name": "python3",
      "display_name": "Python 3"
    },
    "language_info": {
      "name": "python"
    }
  },
  "cells": [
    {
      "cell_type": "markdown",
      "metadata": {
        "id": "view-in-github",
        "colab_type": "text"
      },
      "source": [
        "<a href=\"https://colab.research.google.com/github/RAMYA-B-Github/Artificial-Intelligence/blob/main/experiment_4.ipynb\" target=\"_parent\"><img src=\"https://colab.research.google.com/assets/colab-badge.svg\" alt=\"Open In Colab\"/></a>"
      ]
    },
    {
      "cell_type": "code",
      "execution_count": 1,
      "metadata": {
        "colab": {
          "base_uri": "https://localhost:8080/"
        },
        "id": "1oqzQp2q-ZwM",
        "outputId": "1727f141-400a-494a-c10f-7740bd60d992"
      },
      "outputs": [
        {
          "output_type": "stream",
          "name": "stdout",
          "text": [
            "Initial Board:\n",
            "[[0 0 0]\n",
            " [0 0 0]\n",
            " [0 0 0]]\n",
            "\n",
            "Board after move 1 by Player 1:\n",
            "[[0 0 0]\n",
            " [0 0 0]\n",
            " [1 0 0]]\n",
            "\n",
            "Board after move 2 by Player 2:\n",
            "[[0 0 0]\n",
            " [2 0 0]\n",
            " [1 0 0]]\n",
            "\n",
            "Board after move 3 by Player 1:\n",
            "[[0 0 1]\n",
            " [2 0 0]\n",
            " [1 0 0]]\n",
            "\n",
            "Board after move 4 by Player 2:\n",
            "[[0 0 1]\n",
            " [2 0 0]\n",
            " [1 2 0]]\n",
            "\n",
            "Board after move 5 by Player 1:\n",
            "[[0 0 1]\n",
            " [2 0 1]\n",
            " [1 2 0]]\n",
            "\n",
            "Board after move 6 by Player 2:\n",
            "[[0 0 1]\n",
            " [2 0 1]\n",
            " [1 2 2]]\n",
            "\n",
            "Board after move 7 by Player 1:\n",
            "[[0 1 1]\n",
            " [2 0 1]\n",
            " [1 2 2]]\n",
            "\n",
            "Board after move 8 by Player 2:\n",
            "[[2 1 1]\n",
            " [2 0 1]\n",
            " [1 2 2]]\n",
            "\n",
            "Board after move 9 by Player 1:\n",
            "[[2 1 1]\n",
            " [2 1 1]\n",
            " [1 2 2]]\n",
            "\n",
            "Winner is: Player 1\n"
          ]
        }
      ],
      "source": [
        "#exp 4\n",
        "\n",
        "import numpy as np\n",
        "import random\n",
        "from time import sleep\n",
        "\n",
        "def create_board():\n",
        "    return np.zeros((3, 3), dtype=int)\n",
        "\n",
        "def possibilities(board):\n",
        "    return [(i, j) for i in range(3) for j in range(3) if board[i, j] == 0]\n",
        "\n",
        "def random_place(board, player):\n",
        "    selection = possibilities(board)\n",
        "    if selection:\n",
        "        current_loc = random.choice(selection)\n",
        "        board[current_loc] = player\n",
        "    return board\n",
        "\n",
        "def check_win(board, player):\n",
        "    return (np.any(np.all(board == player, axis=0)) or  # Check columns\n",
        "            np.any(np.all(board == player, axis=1)) or  # Check rows\n",
        "            np.all(np.diag(board) == player) or         # Check main diagonal\n",
        "            np.all(np.diag(np.fliplr(board)) == player)) # Check secondary diagonal\n",
        "\n",
        "def evaluate(board):\n",
        "    for player in [1, 2]:\n",
        "        if check_win(board, player):\n",
        "            return player\n",
        "    return -1 if np.all(board != 0) else 0  # -1 for draw, 0 for ongoing game\n",
        "\n",
        "def play_game():\n",
        "    board, winner, counter = create_board(), 0, 1\n",
        "    print(\"Initial Board:\")\n",
        "    print(board)\n",
        "    sleep(2)\n",
        "\n",
        "    while winner == 0:\n",
        "        for player in [1, 2]:\n",
        "            board = random_place(board, player)\n",
        "            print(f\"\\nBoard after move {counter} by Player {player}:\")\n",
        "            print(board)\n",
        "            sleep(2)\n",
        "            counter += 1\n",
        "            winner = evaluate(board)\n",
        "            if winner != 0:\n",
        "                break\n",
        "\n",
        "    if winner == -1:\n",
        "        print(\"\\nIt's a Draw!\")\n",
        "    else:\n",
        "        print(f\"\\nWinner is: Player {winner}\")\n",
        "\n",
        "    return winner\n",
        "\n",
        "# Driver Code\n",
        "if __name__ == \"__main__\":\n",
        "    play_game()\n",
        "\n",
        "\n"
      ]
    }
  ]
}