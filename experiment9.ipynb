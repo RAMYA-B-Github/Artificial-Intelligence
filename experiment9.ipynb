{
  "nbformat": 4,
  "nbformat_minor": 0,
  "metadata": {
    "colab": {
      "provenance": [],
      "authorship_tag": "ABX9TyN5LSqfizu7Dq2gTPDbtPbM",
      "include_colab_link": true
    },
    "kernelspec": {
      "name": "python3",
      "display_name": "Python 3"
    },
    "language_info": {
      "name": "python"
    }
  },
  "cells": [
    {
      "cell_type": "markdown",
      "metadata": {
        "id": "view-in-github",
        "colab_type": "text"
      },
      "source": [
        "<a href=\"https://colab.research.google.com/github/RAMYA-B-Github/Artificial-Intelligence/blob/main/experiment9.ipynb\" target=\"_parent\"><img src=\"https://colab.research.google.com/assets/colab-badge.svg\" alt=\"Open In Colab\"/></a>"
      ]
    },
    {
      "cell_type": "code",
      "execution_count": 1,
      "metadata": {
        "colab": {
          "base_uri": "https://localhost:8080/"
        },
        "id": "CcKXz-2FGam2",
        "outputId": "44774de8-add1-41d6-fbec-694249b51f9a"
      },
      "outputs": [
        {
          "output_type": "stream",
          "name": "stdout",
          "text": [
            "Unification successful. Substitution:\n",
            "a = X\n",
            "b = Y\n"
          ]
        }
      ],
      "source": [
        " class Unifier:\n",
        "    def __init__(self):\n",
        "        self.substitution = {}\n",
        "    def unify(self, term1, term2):\n",
        "        self.substitution = {}\n",
        "        if self.unify_terms(term1, term2):\n",
        "            print(\"Unification successful. Substitution:\")\n",
        "            self.display_substitution()\n",
        "        else:\n",
        "            print(\"Unification failed.\")\n",
        "    def unify_terms(self, term1, term2):\n",
        "        if term1 == term2:\n",
        "            return True\n",
        "        elif self.is_variable(term1):\n",
        "            return self.unify_variable(term1, term2)\n",
        "        elif self.is_variable(term2):\n",
        "            return self.unify_variable(term2, term1)\n",
        "        elif isinstance(term1, list) and isinstance(term2, list):\n",
        "            return self.unify_lists(term1, term2)\n",
        "        elif isinstance(term1, tuple) and isinstance(term2, tuple):\n",
        "            return self.unify_tuples(term1, term2)\n",
        "        else:\n",
        "            return False\n",
        "    def unify_variable(self, variable, term):\n",
        "        if variable in self.substitution:\n",
        "            return self.unify_terms(self.substitution[variable],\n",
        "term)\n",
        "        elif term in self.substitution:\n",
        "            return self.unify_terms(variable,\n",
        "self.substitution[term])\n",
        "        else:\n",
        "            self.substitution[variable] = term\n",
        "            return True\n",
        "    def unify_lists(self, list1, list2):\n",
        "        if len(list1) != len(list2):\n",
        "            return False\n",
        "        for t1, t2 in zip(list1, list2):\n",
        "            if not self.unify_terms(t1, t2):\n",
        "                return False\n",
        "        return True\n",
        "    def unify_tuples(self, tuple1, tuple2):\n",
        "        if len(tuple1) != len(tuple2):\n",
        "            return False\n",
        "        for t1, t2 in zip(tuple1, tuple2):\n",
        "            if not self.unify_terms(t1, t2):\n",
        "                return False\n",
        "        return True\n",
        "    def is_variable(self, term):\n",
        "        return isinstance(term, str) and term.islower()\n",
        "    def display_substitution(self):\n",
        "        for variable, value in self.substitution.items():\n",
        "            print(f\"{variable} = {value}\")\n",
        " # Example usage:\n",
        " if __name__ == \"__main__\":\n",
        "    unifier = Unifier()\n",
        "    term1 = ['f', 'X', 'Y']\n",
        "    term2 = ['f', 'a', 'b']\n",
        "    unifier.unify(term1, term2)"
      ]
    }
  ]
}