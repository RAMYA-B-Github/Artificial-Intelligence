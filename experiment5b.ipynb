{
  "nbformat": 4,
  "nbformat_minor": 0,
  "metadata": {
    "colab": {
      "provenance": [],
      "authorship_tag": "ABX9TyO2+lELOs/r4uX5YQJhqg5m",
      "include_colab_link": true
    },
    "kernelspec": {
      "name": "python3",
      "display_name": "Python 3"
    },
    "language_info": {
      "name": "python"
    }
  },
  "cells": [
    {
      "cell_type": "markdown",
      "metadata": {
        "id": "view-in-github",
        "colab_type": "text"
      },
      "source": [
        "<a href=\"https://colab.research.google.com/github/RAMYA-B-Github/Artificial-Intelligence/blob/main/experiment5b.ipynb\" target=\"_parent\"><img src=\"https://colab.research.google.com/assets/colab-badge.svg\" alt=\"Open In Colab\"/></a>"
      ]
    },
    {
      "cell_type": "code",
      "execution_count": 5,
      "metadata": {
        "id": "vAcP77Tl_eBt",
        "colab": {
          "base_uri": "https://localhost:8080/"
        },
        "outputId": "1974a3e5-38a3-4eb6-f2fd-1da2827f364d"
      },
      "outputs": [
        {
          "output_type": "stream",
          "name": "stdout",
          "text": [
            "Path found: ['A', 'F', 'G', 'I', 'J']\n"
          ]
        }
      ],
      "source": [
        "import heapq\n",
        "\n",
        "def heuristic(n):\n",
        "    H_dist = {\n",
        "        'A': 11, 'B': 6, 'C': 5, 'D': 7, 'E': 3,\n",
        "        'F': 6, 'G': 5, 'H': 3, 'I': 1, 'J': 0\n",
        "    }\n",
        "    return H_dist[n]\n",
        "\n",
        "def get_neighbors(node):\n",
        "    return Graph_nodes.get(node, [])\n",
        "\n",
        "def memory_bounded_a_star(start_node, stop_node, memory_limit):\n",
        "    open_set = []\n",
        "    closed_set = set()\n",
        "    g = {start_node: 0}\n",
        "    parents = {start_node: None}\n",
        "\n",
        "    # f-cost is g(n) + heuristic(n)\n",
        "    f_cost = {start_node: g[start_node] + heuristic(start_node)}\n",
        "    heapq.heappush(open_set, (f_cost[start_node], start_node))\n",
        "\n",
        "    while open_set:\n",
        "        _, n = heapq.heappop(open_set)\n",
        "\n",
        "        if n == stop_node:\n",
        "            break\n",
        "\n",
        "        closed_set.add(n)\n",
        "\n",
        "        for (m, weight) in get_neighbors(n):\n",
        "            if m in closed_set:\n",
        "                continue\n",
        "\n",
        "            new_g = g[n] + weight\n",
        "            if m not in g or new_g < g[m]:\n",
        "                g[m] = new_g\n",
        "                parents[m] = n\n",
        "                f_cost[m] = g[m] + heuristic(m)\n",
        "\n",
        "                if f_cost[m] <= memory_limit:\n",
        "                    heapq.heappush(open_set, (f_cost[m], m))\n",
        "\n",
        "    # Traceback the path if destination is reached\n",
        "    if stop_node in parents:\n",
        "        path = []\n",
        "        current = stop_node\n",
        "        while current is not None:\n",
        "            path.append(current)\n",
        "            current = parents[current]\n",
        "        path.reverse()\n",
        "        print('Path found:', path)  # Keep only print, remove return\n",
        "    else:\n",
        "        print('Path does not exist within the memory limit.')\n",
        "\n",
        "# Graph representation\n",
        "Graph_nodes = {\n",
        "    'A': [('B', 6), ('F', 3)],\n",
        "    'B': [('A', 6), ('C', 3), ('D', 2)],\n",
        "    'C': [('B', 3), ('D', 1), ('E', 5)],\n",
        "    'D': [('B', 2), ('C', 1), ('E', 8)],\n",
        "    'E': [('C', 5), ('D', 8), ('I', 5), ('J', 5)],\n",
        "    'F': [('A', 3), ('G', 1), ('H', 7)],\n",
        "    'G': [('F', 1), ('I', 3)],\n",
        "    'H': [('F', 7), ('I', 2)],\n",
        "    'I': [('E', 5), ('G', 3), ('H', 2), ('J', 3)],\n",
        "    'J': []  # Added J to prevent key errors\n",
        "}\n",
        "\n",
        "# Run the algorithm\n",
        "memory_bounded_a_star('A', 'J', memory_limit=20)\n"
      ]
    }
  ]
}