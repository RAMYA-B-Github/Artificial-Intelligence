{
  "nbformat": 4,
  "nbformat_minor": 0,
  "metadata": {
    "colab": {
      "provenance": [],
      "authorship_tag": "ABX9TyOEw3ivNb8JTtL+Jc3p9b4W",
      "include_colab_link": true
    },
    "kernelspec": {
      "name": "python3",
      "display_name": "Python 3"
    },
    "language_info": {
      "name": "python"
    }
  },
  "cells": [
    {
      "cell_type": "markdown",
      "metadata": {
        "id": "view-in-github",
        "colab_type": "text"
      },
      "source": [
        "<a href=\"https://colab.research.google.com/github/RAMYA-B-Github/Artificial-Intelligence/blob/main/experiment6a.ipynb\" target=\"_parent\"><img src=\"https://colab.research.google.com/assets/colab-badge.svg\" alt=\"Open In Colab\"/></a>"
      ]
    },
    {
      "cell_type": "code",
      "execution_count": null,
      "metadata": {
        "colab": {
          "base_uri": "https://localhost:8080/"
        },
        "id": "-TEx9yKNA9UU",
        "outputId": "dac93709-3419-4a6c-cf87-0f5a1eeb8022"
      },
      "outputs": [
        {
          "output_type": "stream",
          "name": "stdout",
          "text": [
            "The optimal value is: 12\n"
          ]
        }
      ],
      "source": [
        " import math\n",
        " def minimax(curDepth, nodeIndex, maxTurn, scores, targetDepth):\n",
        "    # base case: targetDepth reached\n",
        "    if curDepth == targetDepth:\n",
        "        return scores[nodeIndex]\n",
        "    if maxTurn:\n",
        "        return max(minimax(curDepth + 1, nodeIndex * 2, False,\n",
        "scores, targetDepth),\n",
        "                   minimax(curDepth + 1, nodeIndex * 2 + 1, False,\n",
        "scores, targetDepth))\n",
        "    else:\n",
        "        return min(minimax(curDepth + 1, nodeIndex * 2, True,\n",
        "scores, targetDepth),\n",
        "                   minimax(curDepth + 1, nodeIndex * 2 + 1, True,\n",
        "scores, targetDepth))\n",
        " # Driver code\n",
        " scores = [3, 5, 2, 9, 12, 5, 23, 23]\n",
        " treeDepth = math.log2(len(scores))\n",
        " print(\"The optimal value is:\", end=\" \")\n",
        " print(minimax(0, 0, True, scores, treeDepth))"
      ]
    }
  ]
}