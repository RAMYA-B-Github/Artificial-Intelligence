{
  "nbformat": 4,
  "nbformat_minor": 0,
  "metadata": {
    "colab": {
      "provenance": [],
      "authorship_tag": "ABX9TyOYuYqZE+qaRvrfyDxsJlRx",
      "include_colab_link": true
    },
    "kernelspec": {
      "name": "python3",
      "display_name": "Python 3"
    },
    "language_info": {
      "name": "python"
    }
  },
  "cells": [
    {
      "cell_type": "markdown",
      "metadata": {
        "id": "view-in-github",
        "colab_type": "text"
      },
      "source": [
        "<a href=\"https://colab.research.google.com/github/RAMYA-B-Github/Artificial-Intelligence/blob/main/experiment2.ipynb\" target=\"_parent\"><img src=\"https://colab.research.google.com/assets/colab-badge.svg\" alt=\"Open In Colab\"/></a>"
      ]
    },
    {
      "cell_type": "code",
      "execution_count": 3,
      "metadata": {
        "colab": {
          "base_uri": "https://localhost:8080/"
        },
        "id": "7YYM1jL62ZsN",
        "outputId": "2f7fccfa-3919-43da-fee6-c997d0203aac"
      },
      "outputs": [
        {
          "output_type": "stream",
          "name": "stdout",
          "text": [
            "Following is Breadth First Traversal (starting from vertex 2):\n",
            "2 0 3 1 "
          ]
        }
      ],
      "source": [
        "# Python3 Program to print BFS traversal\n",
        "# from a given source vertex. BFS(int s)\n",
        "# traverses vertices reachable from s.\n",
        "from collections import defaultdict\n",
        "\n",
        "# This class represents a directed graph\n",
        "# using adjacency list representation\n",
        "class Graph:\n",
        "\n",
        "    # Constructor\n",
        "    def __init__(self): # Changed _init_ to __init__\n",
        "        # default dictionary to store graph\n",
        "        self.graph = defaultdict(list)\n",
        "        self.visited = []\n",
        "\n",
        "    # function to add an edge to graph\n",
        "    def addEdge(self, u, v):\n",
        "        self.graph[u].append(v)\n",
        "\n",
        "    # Function to print a BFS of graph\n",
        "    def BFS(self, s):\n",
        "        # Create a queue for BFS\n",
        "        queue = []\n",
        "\n",
        "        # Add the source node in visited and enqueue it\n",
        "        queue.append(s)\n",
        "        self.visited.append(s)\n",
        "\n",
        "        while queue:\n",
        "            # Dequeue a vertex from queue and print it\n",
        "            s = queue.pop(0)\n",
        "            print(s, end=\" \")\n",
        "\n",
        "            # Get all adjacent vertices of the dequeued vertex s.\n",
        "            # If an adjacent has not been visited, then add it\n",
        "            # in visited and enqueue it\n",
        "            for i in self.graph[s]:\n",
        "                if i not in self.visited:\n",
        "                    queue.append(i)\n",
        "                    self.visited.append(i)\n",
        "\n",
        "# Driver code\n",
        "\n",
        "# Create a graph given in the above diagram\n",
        "g = Graph()\n",
        "g.addEdge(0, 1)\n",
        "g.addEdge(0, 2)\n",
        "g.addEdge(1, 2)\n",
        "g.addEdge(2, 0)\n",
        "g.addEdge(2, 3)\n",
        "g.addEdge(3, 3)\n",
        "\n",
        "print(\"Following is Breadth First Traversal (starting from vertex 2):\")\n",
        "g.BFS(2)"
      ]
    }
  ]
}
