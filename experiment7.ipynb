{
  "nbformat": 4,
  "nbformat_minor": 0,
  "metadata": {
    "colab": {
      "provenance": [],
      "authorship_tag": "ABX9TyMX/7Zm9COZq9AgemM/j2n/",
      "include_colab_link": true
    },
    "kernelspec": {
      "name": "python3",
      "display_name": "Python 3"
    },
    "language_info": {
      "name": "python"
    }
  },
  "cells": [
    {
      "cell_type": "markdown",
      "metadata": {
        "id": "view-in-github",
        "colab_type": "text"
      },
      "source": [
        "<a href=\"https://colab.research.google.com/github/RAMYA-B-Github/Artificial-Intelligence/blob/main/experiment7.ipynb\" target=\"_parent\"><img src=\"https://colab.research.google.com/assets/colab-badge.svg\" alt=\"Open In Colab\"/></a>"
      ]
    },
    {
      "cell_type": "code",
      "source": [
        "pip install python-constraint\n"
      ],
      "metadata": {
        "colab": {
          "base_uri": "https://localhost:8080/"
        },
        "id": "zRnSbSIYCeo5",
        "outputId": "b919c212-1875-4743-dc3d-0ebaaf5d2b79"
      },
      "execution_count": 2,
      "outputs": [
        {
          "output_type": "stream",
          "name": "stdout",
          "text": [
            "Collecting python-constraint\n",
            "  Downloading python-constraint-1.4.0.tar.bz2 (18 kB)\n",
            "  Preparing metadata (setup.py) ... \u001b[?25l\u001b[?25hdone\n",
            "Building wheels for collected packages: python-constraint\n",
            "  Building wheel for python-constraint (setup.py) ... \u001b[?25l\u001b[?25hdone\n",
            "  Created wheel for python-constraint: filename=python_constraint-1.4.0-py2.py3-none-any.whl size=24059 sha256=9907075865f86fbded0515e79ab040fa6e8747e6020ccfc47adc5d321e3360cd\n",
            "  Stored in directory: /root/.cache/pip/wheels/1e/af/a9/990ae7e6a78319b7d7afaab2d14e7e5ae349d5613db5ae28fd\n",
            "Successfully built python-constraint\n",
            "Installing collected packages: python-constraint\n",
            "Successfully installed python-constraint-1.4.0\n"
          ]
        }
      ]
    },
    {
      "cell_type": "code",
      "source": [
        " from constraint import Problem, AllDifferentConstraint\n",
        " def constraint_function(variables, domains, assignments):\n",
        "    # Define your constraints here\n",
        "    # Example: variables[0] + variables[1] == variables[2]\n",
        "    return True\n",
        " def main():\n",
        "    # Create a problem instance\n",
        "    problem = Problem()\n",
        "    # Add variables to the problem\n",
        "    problem.addVariable('a', range(1, 5))\n",
        "    problem.addVariable('b', range(2, 4))\n",
        "    problem.addVariable('c', range(1, 3))\n",
        "    # Add a constraint function to the problem\n",
        "    problem.addConstraint(constraint_function, ['a', 'b', 'c'])\n",
        "    # Optionally, add an \"All Different\" constraint\n",
        "    problem.addConstraint(AllDifferentConstraint(), ['a', 'b', 'c'])\n",
        "    # Solve the problem\n",
        "    solutions = problem.getSolutions()\n",
        "    # Print the solutions\n",
        "    for solution in solutions:\n",
        "        print(solution)\n",
        " if __name__ == \"__main__\":\n",
        "    main()"
      ],
      "metadata": {
        "colab": {
          "base_uri": "https://localhost:8080/"
        },
        "id": "cV_JICP1CnY3",
        "outputId": "7c9551b2-599d-48f2-dbcc-7a80fdbbacd6"
      },
      "execution_count": 3,
      "outputs": [
        {
          "output_type": "stream",
          "name": "stdout",
          "text": [
            "{'b': 3, 'c': 2, 'a': 4}\n",
            "{'b': 3, 'c': 2, 'a': 1}\n",
            "{'b': 3, 'c': 1, 'a': 2}\n",
            "{'b': 3, 'c': 1, 'a': 4}\n",
            "{'b': 2, 'c': 1, 'a': 3}\n",
            "{'b': 2, 'c': 1, 'a': 4}\n"
          ]
        }
      ]
    }
  ]
}