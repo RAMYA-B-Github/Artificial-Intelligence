{
  "nbformat": 4,
  "nbformat_minor": 0,
  "metadata": {
    "colab": {
      "provenance": [],
      "authorship_tag": "ABX9TyOwZFuJBUQBtRWXLERL5a+0",
      "include_colab_link": true
    },
    "kernelspec": {
      "name": "python3",
      "display_name": "Python 3"
    },
    "language_info": {
      "name": "python"
    }
  },
  "cells": [
    {
      "cell_type": "markdown",
      "metadata": {
        "id": "view-in-github",
        "colab_type": "text"
      },
      "source": [
        "<a href=\"https://colab.research.google.com/github/RAMYA-B-Github/Artificial-Intelligence/blob/main/experiment8a.ipynb\" target=\"_parent\"><img src=\"https://colab.research.google.com/assets/colab-badge.svg\" alt=\"Open In Colab\"/></a>"
      ]
    },
    {
      "cell_type": "code",
      "execution_count": null,
      "metadata": {
        "id": "l2E9On3yC352"
      },
      "outputs": [],
      "source": [
        " import chess\n",
        " import chess.svg\n",
        " Mini project: CHESS\n",
        " def display_board(board):\n",
        "    return chess.svg.board(board=board)\n",
        " def player_move():\n",
        "    move_uci = input(\"Enter your move (in UCI format, e.g., 'e2e4'):\n",
        "\")\n",
        "    return chess.Move.from_uci(move_uci)\n",
        " def ai_move(board, depth=2):\n",
        "    best_move = None\n",
        "    best_eval = float('-inf')\n",
        "    for move in board.legal_moves:\n",
        "        board.push(move)\n",
        "        eval = -minimax(board, depth-1, False)\n",
        "        board.pop()\n",
        "        if eval > best_eval:\n",
        "            best_eval = eval\n",
        "            best_move = move\n",
        "    return best_move\n",
        " def minimax(board, depth, maximizing_player):\n",
        "    if depth == 0 or board.is_game_over():\n",
        "        return evaluate_board(board)\n",
        "    if maximizing_player:\n",
        "        max_eval = float('-inf')\n",
        "        for move in board.legal_moves:\n",
        "            board.push(move)\n",
        "            eval = minimax(board, depth-1, False)\n",
        "            board.pop()\n",
        "            max_eval = max(max_eval, eval)\n",
        "        return max_eval\n",
        "    else:\n",
        "        min_eval = float('inf')\n",
        "        for move in board.legal_moves:\n",
        "            board.push(move)\n",
        "            eval = minimax(board, depth-1, True)\n",
        "            board.pop()\n",
        "            min_eval = min(min_eval, eval)\n",
        "        return min_eval\n",
        "def evaluate_board(board):\n",
        "    # Simple evaluation function (counts material)\n",
        "    evaluation = 0\n",
        "    for square in chess.SQUARES:\n",
        "        piece = board.piece_at(square)\n",
        "        if piece is not None:\n",
        "            evaluation += piece_value(piece)\n",
        "    return evaluation\n",
        " def piece_value(piece):\n",
        "    if piece.piece_type == chess.PAWN:\n",
        "        return 1\n",
        "    elif piece.piece_type == chess.KNIGHT:\n",
        "        return 3\n",
        "    elif piece.piece_type == chess.BISHOP:\n",
        "        return 3\n",
        "    elif piece.piece_type == chess.ROOK:\n",
        "        return 5\n",
        "    elif piece.piece_type == chess.QUEEN:\n",
        "        return 9\n",
        "    elif piece.piece_type == chess.KING:\n",
        "        return 1000\n",
        "    return 0\n",
        " def main():\n",
        "    board = chess.Board()\n",
        "    while not board.is_game_over():\n",
        "        print(display_board(board))\n",
        "        # Player move\n",
        "        move = player_move()\n",
        "        if move in board.legal_moves:\n",
        "            board.push(move)\n",
        "        else:\n",
        "            print(\"Invalid move. Try again.\")\n",
        "            continue\n",
        "        # AI move\n",
        "        if not board.is_game_over():\n",
        "            ai_move_result = ai_move(board)\n",
        "            board.push(ai_move_result)\n",
        "    print(display_board(board))\n",
        "    print(\"Game over. Result: {}\".format(board.result()))\n",
        " if __name__ == \"__main__\":\n",
        "    main()"
      ]
    }
  ]
}