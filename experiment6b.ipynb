{
  "nbformat": 4,
  "nbformat_minor": 0,
  "metadata": {
    "colab": {
      "provenance": [],
      "authorship_tag": "ABX9TyPfCvXyx2p7c6Pj+r1p+33+",
      "include_colab_link": true
    },
    "kernelspec": {
      "name": "python3",
      "display_name": "Python 3"
    },
    "language_info": {
      "name": "python"
    }
  },
  "cells": [
    {
      "cell_type": "markdown",
      "metadata": {
        "id": "view-in-github",
        "colab_type": "text"
      },
      "source": [
        "<a href=\"https://colab.research.google.com/github/RAMYA-B-Github/Artificial-Intelligence/blob/main/experiment6b.ipynb\" target=\"_parent\"><img src=\"https://colab.research.google.com/assets/colab-badge.svg\" alt=\"Open In Colab\"/></a>"
      ]
    },
    {
      "cell_type": "code",
      "execution_count": null,
      "metadata": {
        "id": "HPtYKyEPBqaz"
      },
      "outputs": [],
      "source": [
        " # Python3 program to demonstrate\n",
        " # working of Alpha-Beta Pruning\n",
        "# Initial values of Alpha and Beta\n",
        " MAX, MIN = 1000, -1000\n",
        " # Returns optimal value for the current player\n",
        " # (Initially called for root and maximizer)\n",
        " def minimax(depth, nodeIndex, maximizingPlayer, values, alpha,\n",
        "beta):\n",
        "    # Terminating condition, i.e.,\n",
        "    # leaf node is reached\n",
        "    if depth == 3:\n",
        "        return values[nodeIndex]\n",
        "    if maximizingPlayer:\n",
        "        best = MIN\n",
        "        # Recur for left and right children\n",
        "        for i in range(0, 2):\n",
        "            val = minimax(depth + 1, nodeIndex * 2 + i, False,\n",
        "values, alpha, beta)\n",
        "            best = max(best, val)\n",
        "            alpha = max(alpha, best)  # Alpha Beta Pruning\n",
        "            if beta <= alpha:\n",
        "                break\n",
        "        return best\n",
        "    else:\n",
        "        best = MAX\n",
        "        # Recur for left and right children\n",
        "        for i in range(0, 2):\n",
        "            val = minimax(depth + 1, nodeIndex * 2 + i, True,\n",
        "values, alpha, beta)\n",
        "            best = min(best, val)\n",
        "            beta = min(beta, best)\n",
        "            # Alpha Beta Pruning\n",
        "            if beta <= alpha:\n",
        "                break\n",
        "        return best\n",
        " # Driver Code\n",
        " if __name__ == \"__main__\":\n",
        "    values = [3, 5, 6, 9, 1, 2, 0, -1]\n",
        "    print(\"The optimal value is:\", minimax(0, 0, True, values, MIN,\n",
        "MAX))"
      ]
    }
  ]
}