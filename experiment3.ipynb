{
  "nbformat": 4,
  "nbformat_minor": 0,
  "metadata": {
    "colab": {
      "provenance": [],
      "authorship_tag": "ABX9TyNYuIOxAvWu270XctIKFK4O",
      "include_colab_link": true
    },
    "kernelspec": {
      "name": "python3",
      "display_name": "Python 3"
    },
    "language_info": {
      "name": "python"
    }
  },
  "cells": [
    {
      "cell_type": "markdown",
      "metadata": {
        "id": "view-in-github",
        "colab_type": "text"
      },
      "source": [
        "<a href=\"https://colab.research.google.com/github/RAMYA-B-Github/Artificial-Intelligence/blob/main/experiment3.ipynb\" target=\"_parent\"><img src=\"https://colab.research.google.com/assets/colab-badge.svg\" alt=\"Open In Colab\"/></a>"
      ]
    },
    {
      "cell_type": "code",
      "execution_count": null,
      "metadata": {
        "colab": {
          "base_uri": "https://localhost:8080/"
        },
        "id": "RPl8Zr6I9hoN",
        "outputId": "5735c6c9-7f71-4a55-9ba5-34f02ee5efd0"
      },
      "outputs": [
        {
          "output_type": "stream",
          "name": "stdout",
          "text": [
            "Path from initial state to solution state:\n",
            "(0, 0)\n",
            "(0, 3)\n",
            "(4, 0)\n",
            "(4, 3)\n",
            "(3, 0)\n",
            "(1, 3)\n",
            "(3, 3)\n",
            "(1, 0)\n",
            "(4, 2)\n"
          ]
        }
      ],
      "source": [
        "from collections import deque\n",
        "\n",
        "def Solution(a, b, target):\n",
        "    m = {}\n",
        "    isSolvable = False\n",
        "    path = []\n",
        "\n",
        "    q = deque()\n",
        "\n",
        "    # Initializing with jugs being empty\n",
        "    q.append((0, 0))\n",
        "\n",
        "    while len(q) > 0:\n",
        "        # Current state\n",
        "        u = q.popleft()\n",
        "\n",
        "        # If already visited, continue\n",
        "        if (u[0], u[1]) in m:\n",
        "            continue\n",
        "\n",
        "        # If out of bounds, continue\n",
        "        if u[0] > a or u[1] > b or u[0] < 0 or u[1] < 0:\n",
        "            continue\n",
        "\n",
        "        # Store current state\n",
        "        path.append([u[0], u[1]])\n",
        "\n",
        "        m[(u[0], u[1])] = 1\n",
        "\n",
        "        # If we reach the target amount\n",
        "        if u[0] == target or u[1] == target:\n",
        "            isSolvable = True\n",
        "\n",
        "            # If solution found, print the path\n",
        "            for p in path:\n",
        "                print(f\"({p[0]}, {p[1]})\")\n",
        "\n",
        "            return  # Stop further execution\n",
        "\n",
        "        # Possible operations\n",
        "        q.append((u[0], b))   # Fill Jug2\n",
        "        q.append((a, u[1]))   # Fill Jug1\n",
        "        q.append((0, u[1]))   # Empty Jug1\n",
        "        q.append((u[0], 0))   # Empty Jug2\n",
        "\n",
        "        # Pour water from Jug1 to Jug2\n",
        "        pour = min(u[0], b - u[1])\n",
        "        q.append((u[0] - pour, u[1] + pour))\n",
        "\n",
        "        # Pour water from Jug2 to Jug1\n",
        "        pour = min(u[1], a - u[0])\n",
        "        q.append((u[0] + pour, u[1] - pour))\n",
        "\n",
        "    if not isSolvable:\n",
        "        print(\"Solution not possible\")\n",
        "\n",
        "# Driver code\n",
        "if __name__ == '__main__':\n",
        "    Jug1, Jug2, target = 4, 3, 2\n",
        "    print(\"Path from initial state to solution state:\")\n",
        "    Solution(Jug1, Jug2, target)"
      ]
    }
  ]
}