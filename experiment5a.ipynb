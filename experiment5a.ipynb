{
  "nbformat": 4,
  "nbformat_minor": 0,
  "metadata": {
    "colab": {
      "provenance": [],
      "authorship_tag": "ABX9TyODrLakV9IzsFZ8kmeSQRoD",
      "include_colab_link": true
    },
    "kernelspec": {
      "name": "python3",
      "display_name": "Python 3"
    },
    "language_info": {
      "name": "python"
    }
  },
  "cells": [
    {
      "cell_type": "markdown",
      "metadata": {
        "id": "view-in-github",
        "colab_type": "text"
      },
      "source": [
        "<a href=\"https://colab.research.google.com/github/RAMYA-B-Github/Artificial-Intelligence/blob/main/experiment5a.ipynb\" target=\"_parent\"><img src=\"https://colab.research.google.com/assets/colab-badge.svg\" alt=\"Open In Colab\"/></a>"
      ]
    },
    {
      "cell_type": "code",
      "execution_count": 1,
      "metadata": {
        "colab": {
          "base_uri": "https://localhost:8080/"
        },
        "id": "ouZMlCyo-1xa",
        "outputId": "d75935a1-6ec1-4c0e-f50a-d7c1adc46551"
      },
      "outputs": [
        {
          "output_type": "stream",
          "name": "stdout",
          "text": [
            "Path found: ['A', 'F', 'G', 'I', 'J']\n"
          ]
        },
        {
          "output_type": "execute_result",
          "data": {
            "text/plain": [
              "['A', 'F', 'G', 'I', 'J']"
            ]
          },
          "metadata": {},
          "execution_count": 1
        }
      ],
      "source": [
        "#exp 5a\n",
        "\n",
        "\n",
        "def aStarAlgo(start_node, stop_node):\n",
        "    open_set = {start_node}\n",
        "    closed_set = set()\n",
        "\n",
        "    # g stores the cost from start node to current node\n",
        "    g = {start_node: 0}\n",
        "\n",
        "    # parents keep track of the path\n",
        "    parents = {start_node: start_node}\n",
        "\n",
        "    while open_set:\n",
        "        # Select node with the lowest f(n) = g(n) + h(n)\n",
        "        n = min(open_set, key=lambda x: g[x] + heuristic(x))\n",
        "\n",
        "        if n == stop_node:\n",
        "            path = []\n",
        "            while parents[n] != n:\n",
        "                path.append(n)\n",
        "                n = parents[n]\n",
        "            path.append(start_node)\n",
        "            path.reverse()\n",
        "            print('Path found: {}'.format(path))\n",
        "            return path\n",
        "\n",
        "        open_set.remove(n)\n",
        "        closed_set.add(n)\n",
        "\n",
        "        for (m, weight) in get_neighbors(n):\n",
        "            if m in closed_set:\n",
        "                continue\n",
        "\n",
        "            tentative_g = g[n] + weight\n",
        "\n",
        "            if m not in open_set or tentative_g < g.get(m, float('inf')):\n",
        "                parents[m] = n\n",
        "                g[m] = tentative_g\n",
        "                open_set.add(m)\n",
        "\n",
        "    print('Path does not exist!')\n",
        "    return None\n",
        "\n",
        "def get_neighbors(v):\n",
        "    return Graph_nodes.get(v, [])\n",
        "\n",
        "def heuristic(n):\n",
        "    H_dist = {\n",
        "        'A': 11, 'B': 6, 'C': 5, 'D': 7, 'E': 3, 'F': 6, 'G': 5,\n",
        "        'H': 3, 'I': 1, 'J': 0\n",
        "    }\n",
        "    return H_dist.get(n, float('inf'))\n",
        "\n",
        "Graph_nodes = {\n",
        "    'A': [('B', 6), ('F', 3)],\n",
        "    'B': [('A', 6), ('C', 3), ('D', 2)],\n",
        "    'C': [('B', 3), ('D', 1), ('E', 5)],\n",
        "    'D': [('B', 2), ('C', 1), ('E', 8)],\n",
        "    'E': [('C', 5), ('D', 8), ('I', 5), ('J', 5)],\n",
        "    'F': [('A', 3), ('G', 1), ('H', 7)],\n",
        "    'G': [('F', 1), ('I', 3)],\n",
        "    'H': [('F', 7), ('I', 2)],\n",
        "    'I': [('E', 5), ('G', 3), ('H', 2), ('J', 3)],\n",
        "    'J': []  # Destination node\n",
        "}\n",
        "\n",
        "# Running A* Algorithm\n",
        "aStarAlgo('A', 'J')\n",
        "\n"
      ]
    }
  ]
}